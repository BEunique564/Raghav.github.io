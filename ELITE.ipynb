{
  "nbformat": 4,
  "nbformat_minor": 0,
  "metadata": {
    "colab": {
      "provenance": [],
      "authorship_tag": "ABX9TyPEjsie/F501Q1sBAsqiFfF",
      "include_colab_link": true
    },
    "kernelspec": {
      "name": "python3",
      "display_name": "Python 3"
    },
    "language_info": {
      "name": "python"
    }
  },
  "cells": [
    {
      "cell_type": "markdown",
      "metadata": {
        "id": "view-in-github",
        "colab_type": "text"
      },
      "source": [
        "<a href=\"https://colab.research.google.com/github/BEunique564/Raghav.github.io/blob/main/ELITE.ipynb\" target=\"_parent\"><img src=\"https://colab.research.google.com/assets/colab-badge.svg\" alt=\"Open In Colab\"/></a>"
      ]
    },
    {
      "cell_type": "markdown",
      "source": [
        "# **IMPLEMENT A LINEAR REGRESSION MODEL TO PREDICT THE PRICES OF HOUSES BASED  ON THEIR SWAUARE FOOTAGE AND THE NUMBER OF BEDROOMS AND BATHROOMS**"
      ],
      "metadata": {
        "id": "zmKW753hsHoY"
      }
    },
    {
      "cell_type": "code",
      "execution_count": null,
      "metadata": {
        "id": "xajhIaaOqJik"
      },
      "outputs": [],
      "source": [
        "# Import necessary libraries\n",
        "import numpy as np\n",
        "from sklearn.model_selection import train_test_split\n",
        "from sklearn.linear_model import LinearRegression\n",
        "from sklearn.metrics import mean_squared_error\n",
        "\n",
        "# Assume we have a dataset with the following features:\n",
        "#   - 'sqft': square footage of the house\n",
        "#   - 'bedrooms': number of bedrooms\n",
        "#   - 'bathrooms': number of bathrooms\n",
        "#   - 'price': price of the house\n",
        "\n",
        "# Create a sample dataset\n",
        "np.random.seed(0)\n",
        "data = np.random.rand(100, 4)\n",
        "\n",
        "# Assign feature names\n",
        "feature_names = ['sqft', 'bedrooms', 'bathrooms']\n",
        "\n",
        "# Split the data into training and testing sets\n",
        "X_train, X_test, y_train, y_test = train_test_split(data[:, 0:3], data[:, 3], test_size=0.2, random_state=42)\n",
        "\n",
        "# Create a linear regression model\n",
        "model = LinearRegression()\n",
        "\n",
        "# Train the model on the training data\n",
        "model.fit(X_train, y_train)\n",
        "\n",
        "# Make predictions on the testing data\n",
        "y_pred = model.predict(X_test)\n",
        "\n",
        "# Evaluate the model's performance\n",
        "mse = mean_squared_error(y_test, y_pred)\n",
        "print(f'Mean Squared Error: {mse:.2f}')\n",
        "\n",
        "# To use this model to predict house prices, you can use the following code:\n",
        "#   - Create a new data point with the features you want to predict (e.g., square footage, number of bedrooms, number of bathrooms)\n",
        "#   - Use the trained model to make a prediction on the new data point"
      ]
    },
    {
      "cell_type": "markdown",
      "source": [
        "# **K MEANS CLUSTERING ALGORITHM TO GROUP CUSTOMERS OF RETAIL STORE BASED ON THEIR PURCHASE HISTORY**\n"
      ],
      "metadata": {
        "id": "pc8FmzHmqd1o"
      }
    },
    {
      "cell_type": "code",
      "source": [
        "# Import necessary libraries\n",
        "import numpy as np\n",
        "import pandas as pd\n",
        "from sklearn.cluster import KMeans\n",
        "from sklearn.preprocessing import StandardScaler\n",
        "\n",
        "# Create a sample dataset\n",
        "np.random.seed(0)\n",
        "data = np.random.rand(100, 5)\n",
        "\n",
        "# Assign feature names\n",
        "feature_names = ['purchase_amount', 'purchase_frequency', 'average_order_value', 'time_since_last_purchase', 'total_spent']\n",
        "\n",
        "# Create a Pandas DataFrame to store the data\n",
        "df = pd.DataFrame(data, columns=feature_names)\n",
        "\n",
        "# Convert the data to numerical values (if necessary)\n",
        "df['purchase_amount'] = df['purchase_amount'] * 100\n",
        "df['purchase_frequency'] = df['purchase_frequency'] * 10\n",
        "df['average_order_value'] = df['average_order_value'] * 10\n",
        "df['time_since_last_purchase'] = df['time_since_last_purchase'] * 30\n",
        "df['total_spent'] = df['total_spent'] * 1000\n",
        "\n",
        "# Scale the data using StandardScaler\n",
        "scaler = StandardScaler()\n",
        "df_scaled = scaler.fit_transform(df)\n",
        "\n",
        "# Determine the optimal number of clusters (k) using the elbow method\n",
        "wcss = []\n",
        "for i in range(1, 11):\n",
        "    kmeans = KMeans(n_clusters=i, init='k-means++', random_state=0)\n",
        "    kmeans.fit(df_scaled)\n",
        "    wcss.append(kmeans.inertia_)\n",
        "\n",
        "# Plot the elbow curve\n",
        "import matplotlib.pyplot as plt\n",
        "plt.plot(range(1, 11), wcss)\n",
        "plt.title('Elbow Curve')\n",
        "plt.xlabel('Number of Clusters (k)')\n",
        "plt.ylabel('WCSS')\n",
        "plt.show()\n",
        "\n",
        "# Select the optimal number of clusters (k) based on the elbow curve\n",
        "k = 5  # For this example, we'll choose k = 5\n",
        "\n",
        "# Train the K-Means model with the optimal number of clusters\n",
        "kmeans = KMeans(n_clusters=k, init='k-means++', random_state=0)\n",
        "kmeans.fit(df_scaled)\n",
        "\n",
        "# Get the cluster labels for each customer\n",
        "labels = kmeans.labels_\n",
        "\n",
        "# Add the cluster labels to the original DataFrame\n",
        "df['cluster'] = labels\n",
        "\n",
        "# Print the first few rows of the dataset with cluster labels\n",
        "print(df.head())\n",
        "\n",
        "# Group the customers by cluster\n",
        "cluster_groups = df.groupby('cluster')\n",
        "\n",
        "# Print the summary statistics for each cluster\n",
        "for cluster, group in cluster_groups:\n",
        "    print(f'Cluster {cluster}:')\n",
        "    print(group.describe())\n",
        "    print()"
      ],
      "metadata": {
        "id": "On4C3aE_qaPw",
        "colab": {
          "base_uri": "https://localhost:8080/",
          "height": 1000
        },
        "outputId": "88dd2ef4-9f79-4556-fbfc-16fc894ee388"
      },
      "execution_count": null,
      "outputs": [
        {
          "output_type": "display_data",
          "data": {
            "text/plain": [
              "<Figure size 640x480 with 1 Axes>"
            ],
            "image/png": "[encoded data removed]"
          },
          "metadata": {}
        },
        {
          "output_type": "stream",
          "name": "stdout",
          "text": [
            "   purchase_amount  purchase_frequency  average_order_value  \\\n",
            "0        54.881350            7.151894             6.027634   \n",
            "1        64.589411            4.375872             8.917730   \n",
            "2        79.172504            5.288949             5.680446   \n",
            "3         8.712930            0.202184             8.326198   \n",
            "4        97.861834            7.991586             4.614794   \n",
            "\n",
            "   time_since_last_purchase  total_spent  cluster  \n",
            "0                 16.346495   423.654799        4  \n",
            "1                 28.909883   383.441519        3  \n",
            "2                 27.767899    71.036058        0  \n",
            "3                 23.344703   870.012148        3  \n",
            "4                 23.415875   118.274426        0  \n",
            "Cluster 0:\n",
            "       purchase_amount  purchase_frequency  average_order_value  \\\n",
            "count        11.000000           11.000000            11.000000   \n",
            "mean         80.239147            8.147578             3.172593   \n",
            "std          21.302275            1.297725             1.747463   \n",
            "min          36.872517            5.288949             0.653042   \n",
            "25%          71.035344            7.866029             1.874611   \n",
            "50%          90.655550            8.155238             3.331452   \n",
            "75%          96.352393            8.745780             4.352667   \n",
            "max          97.861834            9.903450             5.691007   \n",
            "\n",
            "       time_since_last_purchase  total_spent  cluster  \n",
            "count                 11.000000    11.000000     11.0  \n",
            "mean                  19.948446   294.145905      0.0  \n",
            "std                    9.349684   227.902623      0.0  \n",
            "min                    2.433042    69.166995      0.0  \n",
            "25%                   15.541226   107.186417      0.0  \n",
            "50%                   23.497033   231.701626      0.0  \n",
            "75%                   26.453123   402.837715      0.0  \n",
            "max                   28.847105   730.855807      0.0  \n",
            "\n",
            "Cluster 1:\n",
            "       purchase_amount  purchase_frequency  average_order_value  \\\n",
            "count        21.000000           21.000000            21.000000   \n",
            "mean         61.157003            1.902166             2.598165   \n",
            "std          23.673865            1.167099             1.885743   \n",
            "min          23.223414            0.117141             0.120362   \n",
            "25%          45.416240            1.175319             1.288606   \n",
            "50%          64.557024            2.098437             2.327441   \n",
            "75%          77.740756            2.775961             3.738131   \n",
            "max          99.033895            4.287687             6.630782   \n",
            "\n",
            "       time_since_last_purchase  total_spent  cluster  \n",
            "count                 21.000000    21.000000     21.0  \n",
            "mean                  11.936223   458.806528      1.0  \n",
            "std                    9.013984   284.640139      0.0  \n",
            "min                    0.489855    11.427459      1.0  \n",
            "25%                    3.464529   262.118149      1.0  \n",
            "50%                    9.462851   485.627596      1.0  \n",
            "75%                   18.433941   672.047807      1.0  \n",
            "max                   28.331172   956.405723      1.0  \n",
            "\n",
            "Cluster 2:\n",
            "       purchase_amount  purchase_frequency  average_order_value  \\\n",
            "count        18.000000           18.000000            18.000000   \n",
            "mean         30.958878            4.541225             5.342743   \n",
            "std          16.064918            2.253935             2.828298   \n",
            "min           1.560606            1.103751             0.680741   \n",
            "25%          25.836942            2.853037             3.837423   \n",
            "50%          33.565189            4.378167             5.452263   \n",
            "75%          38.975798            5.921833             6.971298   \n",
            "max          57.615733            8.489436             9.883738   \n",
            "\n",
            "       time_since_last_purchase  total_spent  cluster  \n",
            "count                 18.000000    18.000000     18.0  \n",
            "mean                   5.582026   396.221624      2.0  \n",
            "std                    3.738592   253.909431      0.0  \n",
            "min                    0.397106    24.678728      2.0  \n",
            "25%                    2.120409   207.821746      2.0  \n",
            "50%                    5.541774   363.580237      2.0  \n",
            "75%                    8.136203   541.888453      2.0  \n",
            "max                   12.524591   952.749012      2.0  \n",
            "\n",
            "Cluster 3:\n",
            "       purchase_amount  purchase_frequency  average_order_value  \\\n",
            "count        20.000000           20.000000            20.000000   \n",
            "mean         62.655601            4.275697             8.210760   \n",
            "std          23.971926            2.377365             1.539668   \n",
            "min           8.712930            0.202184             4.358649   \n",
            "25%          60.080654            3.132923             7.319094   \n",
            "50%          66.185532            4.455649             8.769823   \n",
            "75%          73.163193            5.453059             9.464703   \n",
            "max          97.645947            9.413777             9.854914   \n",
            "\n",
            "       time_since_last_purchase  total_spent  cluster  \n",
            "count                 20.000000    20.000000     20.0  \n",
            "mean                  23.585961   605.856874      3.0  \n",
            "std                    4.850210   291.304045      0.0  \n",
            "min                   15.655450    31.838930      3.0  \n",
            "25%                   19.260237   406.856835      3.0  \n",
            "50%                   22.624182   614.352600      3.0  \n",
            "75%                   28.876713   871.081103      3.0  \n",
            "max                   29.832024   998.847007      3.0  \n",
            "\n",
            "Cluster 4:\n",
            "       purchase_amount  purchase_frequency  average_order_value  \\\n",
            "count        30.000000           30.000000            30.000000   \n",
            "mean         25.959651            6.960207             3.753173   \n",
            "std          13.394289            1.869949             2.415654   \n",
            "min           6.271295            3.790569             0.201075   \n",
            "25%          16.215568            5.528163             1.833855   \n",
            "50%          24.339291            6.845805             3.405531   \n",
            "75%          34.635179            8.626967             5.722636   \n",
            "max          54.881350            9.920112             9.591666   \n",
            "\n",
            "       time_since_last_purchase  total_spent  cluster  \n",
            "count                 30.000000    30.000000     30.0  \n",
            "mean                  19.583351   582.828587      4.0  \n",
            "std                    6.359437   321.461061      0.0  \n",
            "min                    3.177185     4.695476      4.0  \n",
            "25%                   16.159656   290.091451      4.0  \n",
            "50%                   20.842040   664.748768      4.0  \n",
            "75%                   25.098805   881.961111      4.0  \n",
            "max                   28.858091   959.433341      4.0  \n",
            "\n"
          ]
        }
      ]
    },
    {
      "cell_type": "markdown",
      "source": [
        "# **IMPLEMENT SVM  TO CLASSIFY IMAGES OF CATS AND DOGS FROM KAGGLE DATASET**"
      ],
      "metadata": {
        "id": "EoKS1ZJ1rUNy"
      }
    },
    {
      "cell_type": "code",
      "source": [
        "# Import necessary libraries\n",
        "import numpy as np\n",
        "import pandas as pd\n",
        "from sklearn import svm\n",
        "from sklearn.model_selection import train_test_split\n",
        "from sklearn.metrics import accuracy_score, classification_report, confusion_matrix\n",
        "from tensorflow.keras.preprocessing.image import ImageDataGenerator\n",
        "import tensorflow as tf\n",
        "\n",
        "# Simulate loading the Kaggle dataset (replace with actual data loading)\n",
        "# Assume 'X' contains image data and 'y' contains labels (0 for cats, 1 for dogs)\n",
        "# Replace with your actual data loading mechanism\n",
        "num_samples = 1000  # Adjust based on your dataset size\n",
        "img_width, img_height = 224, 224\n",
        "num_classes = 2  # Cats and dogs\n",
        "\n",
        "# Generate random data for demonstration\n",
        "X = np.random.rand(num_samples, img_width, img_height, 3)  # Simulate image data\n",
        "y = np.random.randint(0, num_classes, num_samples)  # Simulate labels\n",
        "\n",
        "# Split the data into training and testing sets\n",
        "X_train, X_test, y_train, y_test = train_test_split(X, y, test_size=0.2, random_state=42)\n",
        "\n",
        "# Reshape the image data for SVM (flatten the images)\n",
        "X_train = X_train.reshape(X_train.shape[0], -1)\n",
        "X_test = X_test.reshape(X_test.shape[0], -1)\n",
        "\n",
        "# Define the SVM model\n",
        "svm_model = svm.SVC(kernel='rbf', probability=True)\n",
        "\n",
        "# Train the SVM model on the training data\n",
        "svm_model.fit(X_train, y_train)\n",
        "\n",
        "# Evaluate the SVM model on"
      ],
      "metadata": {
        "id": "vJCVw7XTrx8w",
        "colab": {
          "base_uri": "https://localhost:8080/",
          "height": 356
        },
        "outputId": "efee6439-5a87-4223-8345-681d74b9ac38"
      },
      "execution_count": null,
      "outputs": [
        {
          "output_type": "error",
          "ename": "KeyboardInterrupt",
          "evalue": "",
          "traceback": [
            "\u001b[0;31m---------------------------------------------------------------------------\u001b[0m",
            "\u001b[0;31mKeyboardInterrupt\u001b[0m                         Traceback (most recent call last)",
            "\u001b[0;32m<ipython-input-4-e4e7dc18769f>\u001b[0m in \u001b[0;36m<cell line: 0>\u001b[0;34m()\u001b[0m\n\u001b[1;32m     30\u001b[0m \u001b[0;34m\u001b[0m\u001b[0m\n\u001b[1;32m     31\u001b[0m \u001b[0;31m# Train the SVM model on the training data\u001b[0m\u001b[0;34m\u001b[0m\u001b[0;34m\u001b[0m\u001b[0m\n\u001b[0;32m---> 32\u001b[0;31m \u001b[0msvm_model\u001b[0m\u001b[0;34m.\u001b[0m\u001b[0mfit\u001b[0m\u001b[0;34m(\u001b[0m\u001b[0mX_train\u001b[0m\u001b[0;34m,\u001b[0m \u001b[0my_train\u001b[0m\u001b[0;34m)\u001b[0m\u001b[0;34m\u001b[0m\u001b[0;34m\u001b[0m\u001b[0m\n\u001b[0m\u001b[1;32m     33\u001b[0m \u001b[0;34m\u001b[0m\u001b[0m\n\u001b[1;32m     34\u001b[0m \u001b[0;31m# Evaluate the SVM model on\u001b[0m\u001b[0;34m\u001b[0m\u001b[0;34m\u001b[0m\u001b[0m\n",
            "\u001b[0;32m/usr/local/lib/python3.11/dist-packages/sklearn/base.py\u001b[0m in \u001b[0;36mwrapper\u001b[0;34m(estimator, *args, **kwargs)\u001b[0m\n\u001b[1;32m   1387\u001b[0m                 )\n\u001b[1;32m   1388\u001b[0m             ):\n\u001b[0;32m-> 1389\u001b[0;31m                 \u001b[0;32mreturn\u001b[0m \u001b[0mfit_method\u001b[0m\u001b[0;34m(\u001b[0m\u001b[0mestimator\u001b[0m\u001b[0;34m,\u001b[0m \u001b[0;34m*\u001b[0m\u001b[0margs\u001b[0m\u001b[0;34m,\u001b[0m \u001b[0;34m**\u001b[0m\u001b[0mkwargs\u001b[0m\u001b[0;34m)\u001b[0m\u001b[0;34m\u001b[0m\u001b[0;34m\u001b[0m\u001b[0m\n\u001b[0m\u001b[1;32m   1390\u001b[0m \u001b[0;34m\u001b[0m\u001b[0m\n\u001b[1;32m   1391\u001b[0m         \u001b[0;32mreturn\u001b[0m \u001b[0mwrapper\u001b[0m\u001b[0;34m\u001b[0m\u001b[0;34m\u001b[0m\u001b[0m\n",
            "\u001b[0;32m/usr/local/lib/python3.11/dist-packages/sklearn/svm/_base.py\u001b[0m in \u001b[0;36mfit\u001b[0;34m(self, X, y, sample_weight)\u001b[0m\n\u001b[1;32m    256\u001b[0m \u001b[0;34m\u001b[0m\u001b[0m\n\u001b[1;32m    257\u001b[0m         \u001b[0mseed\u001b[0m \u001b[0;34m=\u001b[0m \u001b[0mrnd\u001b[0m\u001b[0;34m.\u001b[0m\u001b[0mrandint\u001b[0m\u001b[0;34m(\u001b[0m\u001b[0mnp\u001b[0m\u001b[0;34m.\u001b[0m\u001b[0miinfo\u001b[0m\u001b[0;34m(\u001b[0m\u001b[0;34m\"i\"\u001b[0m\u001b[0;34m)\u001b[0m\u001b[0;34m.\u001b[0m\u001b[0mmax\u001b[0m\u001b[0;34m)\u001b[0m\u001b[0;34m\u001b[0m\u001b[0;34m\u001b[0m\u001b[0m\n\u001b[0;32m--> 258\u001b[0;31m         \u001b[0mfit\u001b[0m\u001b[0;34m(\u001b[0m\u001b[0mX\u001b[0m\u001b[0;34m,\u001b[0m \u001b[0my\u001b[0m\u001b[0;34m,\u001b[0m \u001b[0msample_weight\u001b[0m\u001b[0;34m,\u001b[0m \u001b[0msolver_type\u001b[0m\u001b[0;34m,\u001b[0m \u001b[0mkernel\u001b[0m\u001b[0;34m,\u001b[0m \u001b[0mrandom_seed\u001b[0m\u001b[0;34m=\u001b[0m\u001b[0mseed\u001b[0m\u001b[0;34m)\u001b[0m\u001b[0;34m\u001b[0m\u001b[0;34m\u001b[0m\u001b[0m\n\u001b[0m\u001b[1;32m    259\u001b[0m         \u001b[0;31m# see comment on the other call to np.iinfo in this file\u001b[0m\u001b[0;34m\u001b[0m\u001b[0;34m\u001b[0m\u001b[0m\n\u001b[1;32m    260\u001b[0m \u001b[0;34m\u001b[0m\u001b[0m\n",
            "\u001b[0;32m/usr/local/lib/python3.11/dist-packages/sklearn/svm/_base.py\u001b[0m in \u001b[0;36m_dense_fit\u001b[0;34m(self, X, y, sample_weight, solver_type, kernel, random_seed)\u001b[0m\n\u001b[1;32m    334\u001b[0m             \u001b[0mself\u001b[0m\u001b[0;34m.\u001b[0m\u001b[0mfit_status_\u001b[0m\u001b[0;34m,\u001b[0m\u001b[0;34m\u001b[0m\u001b[0;34m\u001b[0m\u001b[0m\n\u001b[1;32m    335\u001b[0m             \u001b[0mself\u001b[0m\u001b[0;34m.\u001b[0m\u001b[0m_num_iter\u001b[0m\u001b[0;34m,\u001b[0m\u001b[0;34m\u001b[0m\u001b[0;34m\u001b[0m\u001b[0m\n\u001b[0;32m--> 336\u001b[0;31m         \u001b[0;34m)\u001b[0m \u001b[0;34m=\u001b[0m \u001b[0mlibsvm\u001b[0m\u001b[0;34m.\u001b[0m\u001b[0mfit\u001b[0m\u001b[0;34m(\u001b[0m\u001b[0;34m\u001b[0m\u001b[0;34m\u001b[0m\u001b[0m\n\u001b[0m\u001b[1;32m    337\u001b[0m             \u001b[0mX\u001b[0m\u001b[0;34m,\u001b[0m\u001b[0;34m\u001b[0m\u001b[0;34m\u001b[0m\u001b[0m\n\u001b[1;32m    338\u001b[0m             \u001b[0my\u001b[0m\u001b[0;34m,\u001b[0m\u001b[0;34m\u001b[0m\u001b[0;34m\u001b[0m\u001b[0m\n",
            "\u001b[0;31mKeyboardInterrupt\u001b[0m: "
          ]
        }
      ]
    }
  ]
}